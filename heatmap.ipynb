{
  "nbformat": 4,
  "nbformat_minor": 0,
  "metadata": {
    "colab": {
      "name": "heatmap.ipynb",
      "provenance": [],
      "collapsed_sections": [],
      "toc_visible": true
    },
    "kernelspec": {
      "name": "python3",
      "display_name": "Python 3"
    },
    "accelerator": "GPU"
  },
  "cells": [
    {
      "cell_type": "code",
      "metadata": {
        "id": "wascOngQ6mro",
        "colab_type": "code",
        "outputId": "a7ddd013-f023-4687-9d06-d75dcce35010",
        "colab": {
          "base_uri": "https://localhost:8080/",
          "height": 68
        }
      },
      "source": [
        "!pip install tf-explain"
      ],
      "execution_count": 0,
      "outputs": [
        {
          "output_type": "stream",
          "text": [
            "Requirement already satisfied: tf-explain in /usr/local/lib/python3.6/dist-packages (0.2.1)\n",
            "Requirement already satisfied: opencv-python>=4.1.0.25 in /usr/local/lib/python3.6/dist-packages (from tf-explain) (4.1.2.30)\n",
            "Requirement already satisfied: numpy>=1.11.3 in /usr/local/lib/python3.6/dist-packages (from opencv-python>=4.1.0.25->tf-explain) (1.18.4)\n"
          ],
          "name": "stdout"
        }
      ]
    },
    {
      "cell_type": "code",
      "metadata": {
        "id": "0RkuNnvO0bNv",
        "colab_type": "code",
        "colab": {}
      },
      "source": [
        "import tensorflow as tf \n",
        "from tensorflow import keras\n",
        "from tensorflow.keras import layers\n",
        "from tensorflow.keras import models\n",
        "\n",
        "import matplotlib.pyplot as plt\n",
        "%matplotlib inline\n",
        "import numpy as np\n",
        "import cv2 as cv\n",
        "import sklearn.utils\n",
        "from sklearn.model_selection import train_test_split\n",
        "from google.colab.patches import cv2_imshow\n",
        "from tf_explain.core import GradCAM\n",
        "from tf_explain.core import SmoothGrad\n",
        "from tf_explain.core import IntegratedGradients\n",
        "import os\n",
        "from IPython.display import Image\n"
      ],
      "execution_count": 0,
      "outputs": []
    },
    {
      "cell_type": "code",
      "metadata": {
        "id": "m3ZbDM7ndpZK",
        "colab_type": "code",
        "outputId": "c4d0286e-08bf-4e33-8a89-99d441497d32",
        "colab": {
          "base_uri": "https://localhost:8080/",
          "height": 51
        }
      },
      "source": [
        "\n",
        "from google.colab import drive\n",
        "drive.mount('/content/gdrive')\n",
        "#changing the working directory\n",
        "\n",
        "%cd /content/gdrive/My Drive/\n",
        "\n",
        "#%cd /content/gdrive/My Drive/Kaggle\n",
        "\n",
        "#Check the present working directory using pwd command"
      ],
      "execution_count": 0,
      "outputs": [
        {
          "output_type": "stream",
          "text": [
            "Drive already mounted at /content/gdrive; to attempt to forcibly remount, call drive.mount(\"/content/gdrive\", force_remount=True).\n",
            "/content/gdrive/My Drive\n"
          ],
          "name": "stdout"
        }
      ]
    },
    {
      "cell_type": "code",
      "metadata": {
        "id": "x1U1YEZpWE6D",
        "colab_type": "code",
        "outputId": "a746d7e1-8a03-40e2-c5a8-a84986778178",
        "colab": {
          "base_uri": "https://localhost:8080/",
          "height": 51
        }
      },
      "source": [
        "\"\"\"\n",
        "cd /content/gdrive/My Drive/dataset\n",
        "unzip preprocessing.zip\n",
        "\"\"\"\n",
        "\n",
        "%cd /content/gdrive/My Drive/dataset\n",
        "\"\"\"\n",
        "!ls\n",
        "!unzip dstrts.zip\n",
        "\"\"\""
      ],
      "execution_count": 0,
      "outputs": [
        {
          "output_type": "stream",
          "text": [
            "/content/gdrive/My Drive/dataset\n"
          ],
          "name": "stdout"
        },
        {
          "output_type": "execute_result",
          "data": {
            "text/plain": [
              "'\\n!ls\\n!unzip dstrts.zip\\n'"
            ]
          },
          "metadata": {
            "tags": []
          },
          "execution_count": 200
        }
      ]
    },
    {
      "cell_type": "code",
      "metadata": {
        "id": "0-bdBmYj0iFr",
        "colab_type": "code",
        "outputId": "8a4fe9f7-f480-4f54-f86c-f8ede5d2a70b",
        "colab": {
          "base_uri": "https://localhost:8080/",
          "height": 1000
        }
      },
      "source": [
        "model = tf.keras.models.load_model('/content/gdrive/My Drive/dataset/vgg16bnus2.h5')\n",
        "model.summary()"
      ],
      "execution_count": 0,
      "outputs": [
        {
          "output_type": "stream",
          "text": [
            "Model: \"sequential_2\"\n",
            "_________________________________________________________________\n",
            "Layer (type)                 Output Shape              Param #   \n",
            "=================================================================\n",
            "conv2d_26 (Conv2D)           (None, 299, 299, 64)      640       \n",
            "_________________________________________________________________\n",
            "batch_normalization_26 (Batc (None, 299, 299, 64)      256       \n",
            "_________________________________________________________________\n",
            "activation_26 (Activation)   (None, 299, 299, 64)      0         \n",
            "_________________________________________________________________\n",
            "conv2d_27 (Conv2D)           (None, 299, 299, 64)      36928     \n",
            "_________________________________________________________________\n",
            "batch_normalization_27 (Batc (None, 299, 299, 64)      256       \n",
            "_________________________________________________________________\n",
            "activation_27 (Activation)   (None, 299, 299, 64)      0         \n",
            "_________________________________________________________________\n",
            "max_pooling2d_10 (MaxPooling (None, 149, 149, 64)      0         \n",
            "_________________________________________________________________\n",
            "conv2d_28 (Conv2D)           (None, 149, 149, 128)     73856     \n",
            "_________________________________________________________________\n",
            "batch_normalization_28 (Batc (None, 149, 149, 128)     512       \n",
            "_________________________________________________________________\n",
            "activation_28 (Activation)   (None, 149, 149, 128)     0         \n",
            "_________________________________________________________________\n",
            "conv2d_29 (Conv2D)           (None, 149, 149, 128)     147584    \n",
            "_________________________________________________________________\n",
            "batch_normalization_29 (Batc (None, 149, 149, 128)     512       \n",
            "_________________________________________________________________\n",
            "activation_29 (Activation)   (None, 149, 149, 128)     0         \n",
            "_________________________________________________________________\n",
            "max_pooling2d_11 (MaxPooling (None, 74, 74, 128)       0         \n",
            "_________________________________________________________________\n",
            "conv2d_30 (Conv2D)           (None, 74, 74, 256)       295168    \n",
            "_________________________________________________________________\n",
            "batch_normalization_30 (Batc (None, 74, 74, 256)       1024      \n",
            "_________________________________________________________________\n",
            "activation_30 (Activation)   (None, 74, 74, 256)       0         \n",
            "_________________________________________________________________\n",
            "conv2d_31 (Conv2D)           (None, 74, 74, 256)       590080    \n",
            "_________________________________________________________________\n",
            "batch_normalization_31 (Batc (None, 74, 74, 256)       1024      \n",
            "_________________________________________________________________\n",
            "activation_31 (Activation)   (None, 74, 74, 256)       0         \n",
            "_________________________________________________________________\n",
            "conv2d_32 (Conv2D)           (None, 74, 74, 256)       590080    \n",
            "_________________________________________________________________\n",
            "batch_normalization_32 (Batc (None, 74, 74, 256)       1024      \n",
            "_________________________________________________________________\n",
            "activation_32 (Activation)   (None, 74, 74, 256)       0         \n",
            "_________________________________________________________________\n",
            "max_pooling2d_12 (MaxPooling (None, 37, 37, 256)       0         \n",
            "_________________________________________________________________\n",
            "conv2d_33 (Conv2D)           (None, 37, 37, 512)       1180160   \n",
            "_________________________________________________________________\n",
            "batch_normalization_33 (Batc (None, 37, 37, 512)       2048      \n",
            "_________________________________________________________________\n",
            "activation_33 (Activation)   (None, 37, 37, 512)       0         \n",
            "_________________________________________________________________\n",
            "conv2d_34 (Conv2D)           (None, 37, 37, 512)       2359808   \n",
            "_________________________________________________________________\n",
            "batch_normalization_34 (Batc (None, 37, 37, 512)       2048      \n",
            "_________________________________________________________________\n",
            "activation_34 (Activation)   (None, 37, 37, 512)       0         \n",
            "_________________________________________________________________\n",
            "conv2d_35 (Conv2D)           (None, 37, 37, 512)       2359808   \n",
            "_________________________________________________________________\n",
            "batch_normalization_35 (Batc (None, 37, 37, 512)       2048      \n",
            "_________________________________________________________________\n",
            "activation_35 (Activation)   (None, 37, 37, 512)       0         \n",
            "_________________________________________________________________\n",
            "max_pooling2d_13 (MaxPooling (None, 18, 18, 512)       0         \n",
            "_________________________________________________________________\n",
            "conv2d_36 (Conv2D)           (None, 18, 18, 512)       2359808   \n",
            "_________________________________________________________________\n",
            "batch_normalization_36 (Batc (None, 18, 18, 512)       2048      \n",
            "_________________________________________________________________\n",
            "activation_36 (Activation)   (None, 18, 18, 512)       0         \n",
            "_________________________________________________________________\n",
            "conv2d_37 (Conv2D)           (None, 18, 18, 512)       2359808   \n",
            "_________________________________________________________________\n",
            "batch_normalization_37 (Batc (None, 18, 18, 512)       2048      \n",
            "_________________________________________________________________\n",
            "activation_37 (Activation)   (None, 18, 18, 512)       0         \n",
            "_________________________________________________________________\n",
            "conv2d_38 (Conv2D)           (None, 18, 18, 512)       2359808   \n",
            "_________________________________________________________________\n",
            "batch_normalization_38 (Batc (None, 18, 18, 512)       2048      \n",
            "_________________________________________________________________\n",
            "activation_38 (Activation)   (None, 18, 18, 512)       0         \n",
            "_________________________________________________________________\n",
            "max_pooling2d_14 (MaxPooling (None, 9, 9, 512)         0         \n",
            "_________________________________________________________________\n",
            "flatten_2 (Flatten)          (None, 41472)             0         \n",
            "_________________________________________________________________\n",
            "dense_6 (Dense)              (None, 1024)              42468352  \n",
            "_________________________________________________________________\n",
            "dropout_4 (Dropout)          (None, 1024)              0         \n",
            "_________________________________________________________________\n",
            "dense_7 (Dense)              (None, 64)                65600     \n",
            "_________________________________________________________________\n",
            "dropout_5 (Dropout)          (None, 64)                0         \n",
            "_________________________________________________________________\n",
            "dense_8 (Dense)              (None, 1)                 65        \n",
            "=================================================================\n",
            "Total params: 57,264,449\n",
            "Trainable params: 57,256,001\n",
            "Non-trainable params: 8,448\n",
            "_________________________________________________________________\n"
          ],
          "name": "stdout"
        }
      ]
    },
    {
      "cell_type": "code",
      "metadata": {
        "id": "FQXjAF-j8We9",
        "colab_type": "code",
        "colab": {}
      },
      "source": [
        "IMAGE_PATH = 'mdb209.jpg'"
      ],
      "execution_count": 0,
      "outputs": []
    },
    {
      "cell_type": "code",
      "metadata": {
        "id": "ohmJZONX6yru",
        "colab_type": "code",
        "outputId": "8e8833d7-1ea3-4301-d1b6-206e77dc17bd",
        "colab": {
          "base_uri": "https://localhost:8080/",
          "height": 54
        }
      },
      "source": [
        "\"\"\"\n",
        "img = cv.imread(IMAGE_PATH,0)\n",
        "img = cv.resize(img,(299,299))\n",
        "img = tf.keras.preprocessing.image.img_to_array(img)\n",
        "img = tf.convert_to_tensor(img)\n",
        "img = tf.image.per_image_standardization(img)\n",
        "img = img.numpy()\n",
        "img = img/255.\n",
        "print(img.shape)\n",
        "\"\"\""
      ],
      "execution_count": 0,
      "outputs": [
        {
          "output_type": "execute_result",
          "data": {
            "text/plain": [
              "'\\nimg = cv.imread(IMAGE_PATH,0)\\nimg = cv.resize(img,(299,299))\\nimg = tf.keras.preprocessing.image.img_to_array(img)\\nimg = tf.convert_to_tensor(img)\\nimg = tf.image.per_image_standardization(img)\\nimg = img.numpy()\\nimg = img/255.\\nprint(img.shape)\\n'"
            ]
          },
          "metadata": {
            "tags": []
          },
          "execution_count": 203
        }
      ]
    },
    {
      "cell_type": "code",
      "metadata": {
        "id": "u6jVALTaJA8L",
        "colab_type": "code",
        "colab": {}
      },
      "source": [
        "#model.predict_classes(img.reshape(1,299,299,1))"
      ],
      "execution_count": 0,
      "outputs": []
    },
    {
      "cell_type": "code",
      "metadata": {
        "id": "4xZ608I3Igqw",
        "colab_type": "code",
        "colab": {}
      },
      "source": [
        "\n",
        "X_test1 = np.load('../Kaggle/test10_data/test10_data.npy')\n",
        "X_test2 = np.load('../Kaggle/cv10_data/cv10_data.npy')\n",
        "\n",
        "y_test1 = np.load(\"../Kaggle/test10_labels.npy\")\n",
        "y_test2 = np.load(\"../Kaggle/cv10_labels.npy\")\n",
        "X_test = np.concatenate((X_test1,X_test2),axis = 0)\n",
        "y_test = np.concatenate((y_test1,y_test2),axis = 0)\n"
      ],
      "execution_count": 0,
      "outputs": []
    },
    {
      "cell_type": "code",
      "metadata": {
        "id": "k-c-xbPwLD8T",
        "colab_type": "code",
        "outputId": "3bd54b7d-ecec-4bdb-af64-04686dca4944",
        "colab": {
          "base_uri": "https://localhost:8080/",
          "height": 350
        }
      },
      "source": [
        "\n",
        "X_test = X_test[1]\n",
        "cv2_imshow(X_test)\n",
        "y_test = y_test[1:2]\n",
        "img = tf.convert_to_tensor(img)\n",
        "img = tf.image.per_image_standardization(img)\n",
        "img = img.numpy()\n",
        "X_test = X_test/255.\n",
        "data = ([X_test],None)\n",
        "print(X_test.shape)\n",
        "print(y_test)\n"
      ],
      "execution_count": 0,
      "outputs": [
        {
          "output_type": "display_data",
          "data": {
            "image/png": "[encoded data removed]",
            "text/plain": [
              "<PIL.Image.Image image mode=RGB size=299x299 at 0x7F3A88004240>"
            ]
          },
          "metadata": {
            "tags": []
          }
        },
        {
          "output_type": "stream",
          "text": [
            "(299, 299, 1)\n",
            "[0]\n"
          ],
          "name": "stdout"
        }
      ]
    },
    {
      "cell_type": "code",
      "metadata": {
        "id": "AO1YFaIU-PdR",
        "colab_type": "code",
        "colab": {}
      },
      "source": [
        "input_layer = layers.Input(batch_shape=model.layers[0].input_shape)\n",
        "prev_layer = input_layer\n",
        "for layer in model.layers:\n",
        "    layer._inbound_nodes = []\n",
        "    prev_layer = layer(prev_layer)\n",
        "\n",
        "funcmodel = models.Model([input_layer], [prev_layer])"
      ],
      "execution_count": 0,
      "outputs": []
    },
    {
      "cell_type": "code",
      "metadata": {
        "id": "c6m0QgTuBGIV",
        "colab_type": "code",
        "outputId": "86a6ad43-4af1-4b80-f547-ff4be759a720",
        "colab": {
          "base_uri": "https://localhost:8080/",
          "height": 34
        }
      },
      "source": [
        ""
      ],
      "execution_count": 0,
      "outputs": [
        {
          "output_type": "execute_result",
          "data": {
            "text/plain": [
              "array([[1.9840256e-06]], dtype=float32)"
            ]
          },
          "metadata": {
            "tags": []
          },
          "execution_count": 217
        }
      ]
    },
    {
      "cell_type": "code",
      "metadata": {
        "id": "_4Nx0q7U7Ild",
        "colab_type": "code",
        "colab": {}
      },
      "source": [
        "explainer = GradCAM()\n",
        "grid = explainer.explain(data, funcmodel, class_index=0)  \n",
        "explainer.save(grid, \".\", \"grad_cam5.png\")\n",
        "\n"
      ],
      "execution_count": 0,
      "outputs": []
    },
    {
      "cell_type": "code",
      "metadata": {
        "id": "RdiGImRkIMJi",
        "colab_type": "code",
        "colab": {}
      },
      "source": [
        ""
      ],
      "execution_count": 0,
      "outputs": []
    }
  ]
}