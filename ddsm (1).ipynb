{
  "nbformat": 4,
  "nbformat_minor": 0,
  "metadata": {
    "colab": {
      "name": "ddsm.ipynb",
      "provenance": [],
      "collapsed_sections": [],
      "machine_shape": "hm"
    },
    "kernelspec": {
      "name": "python3",
      "display_name": "Python 3"
    },
    "accelerator": "GPU"
  },
  "cells": [
    {
      "cell_type": "code",
      "metadata": {
        "id": "4njk76BnX7II",
        "colab_type": "code",
        "outputId": "c4ad8254-9e12-4ea5-edd7-810f904848bc",
        "colab": {
          "base_uri": "https://localhost:8080/",
          "height": 120
        }
      },
      "source": [
        "\n",
        "from google.colab import drive\n",
        "drive.mount('/content/gdrive')\n"
      ],
      "execution_count": 0,
      "outputs": [
        {
          "output_type": "stream",
          "text": [
            "Go to this URL in a browser: https://accounts.google.com/o/oauth2/auth?client_id=947318989803-6bn6qk8qdgf4n4g3pfee6491hc0brc4i.apps.googleusercontent.com&redirect_uri=urn%3aietf%3awg%3aoauth%3a2.0%3aoob&response_type=code&scope=email%20https%3a%2f%2fwww.googleapis.com%2fauth%2fdocs.test%20https%3a%2f%2fwww.googleapis.com%2fauth%2fdrive%20https%3a%2f%2fwww.googleapis.com%2fauth%2fdrive.photos.readonly%20https%3a%2f%2fwww.googleapis.com%2fauth%2fpeopleapi.readonly\n",
            "\n",
            "Enter your authorization code:\n",
            "··········\n",
            "Mounted at /content/gdrive\n"
          ],
          "name": "stdout"
        }
      ]
    },
    {
      "cell_type": "code",
      "metadata": {
        "id": "nPfpryAx2Nne",
        "colab_type": "code",
        "outputId": "dc299c9f-723c-4738-a093-3defe2e12b8b",
        "colab": {
          "base_uri": "https://localhost:8080/",
          "height": 33
        }
      },
      "source": [
        "\"\"\"\n",
        "os.environ['KAGGLE_CONFIG_DIR'] = \"/content/gdrive/My Drive/Kaggle\"\n",
        "!kaggle datasets download -d skooch/ddsm-mammography\n",
        "!ls\n",
        "!unzip ddsm-mammography.zip \n",
        "\"\"\""
      ],
      "execution_count": 0,
      "outputs": [
        {
          "output_type": "execute_result",
          "data": {
            "text/plain": [
              "'\\nos.environ[\\'KAGGLE_CONFIG_DIR\\'] = \"/content/gdrive/My Drive/Kaggle\"\\n!kaggle datasets download -d skooch/ddsm-mammography\\n!ls\\n!unzip ddsm-mammography.zip \\n'"
            ]
          },
          "metadata": {
            "tags": []
          },
          "execution_count": 3
        }
      ]
    },
    {
      "cell_type": "code",
      "metadata": {
        "id": "k_aqy3Kmtn7H",
        "colab_type": "code",
        "outputId": "49e0ac4b-8c66-4136-a99c-248b44fd3172",
        "colab": {
          "base_uri": "https://localhost:8080/",
          "height": 33
        }
      },
      "source": [
        "import tensorflow as tf\n",
        "import matplotlib.pyplot as plt\n",
        "%matplotlib inline\n",
        "import numpy as np\n",
        "import cv2 as cv\n",
        "from keras.preprocessing.image import ImageDataGenerator\n",
        "import sklearn.utils\n",
        "from sklearn.model_selection import train_test_split\n",
        "from google.colab.patches import cv2_imshow\n",
        "\n",
        "import keras\n",
        "import os\n",
        "from __future__ import division\n"
      ],
      "execution_count": 0,
      "outputs": [
        {
          "output_type": "stream",
          "text": [
            "Using TensorFlow backend.\n"
          ],
          "name": "stderr"
        }
      ]
    },
    {
      "cell_type": "code",
      "metadata": {
        "id": "G_VjNaUDYPg2",
        "colab_type": "code",
        "colab": {}
      },
      "source": [
        "epochs = 20\n",
        "batch_size = 30\n",
        "datasize = 59890#size od used dataset(DDSM from Kaggle)\n",
        "steps_per_epoch=int(59890 / float(batch_size))"
      ],
      "execution_count": 0,
      "outputs": []
    },
    {
      "cell_type": "code",
      "metadata": {
        "id": "1dgaqp-M1b7V",
        "colab_type": "code",
        "outputId": "1427d349-eec0-4127-a49c-1d367116c4f1",
        "colab": {
          "base_uri": "https://localhost:8080/",
          "height": 50
        }
      },
      "source": [
        "#changing the working directory\n",
        "!pwd\n",
        "%cd /content/gdrive/My Drive/Kaggle\n",
        "#Check the present working directory using pwd command"
      ],
      "execution_count": 0,
      "outputs": [
        {
          "output_type": "stream",
          "text": [
            "/content\n",
            "/content/gdrive/My Drive/Kaggle\n"
          ],
          "name": "stdout"
        }
      ]
    },
    {
      "cell_type": "code",
      "metadata": {
        "id": "I0_ugrgl2lih",
        "colab_type": "code",
        "colab": {}
      },
      "source": [
        "trainpaths = [\"training10_0/training10_0.tfrecords\",\"training10_1/training10_1.tfrecords\",\"training10_2/training10_2.tfrecords\",\"training10_3/training10_3.tfrecords\"]"
      ],
      "execution_count": 0,
      "outputs": []
    },
    {
      "cell_type": "markdown",
      "metadata": {
        "id": "tucxag4NaeG9",
        "colab_type": "text"
      },
      "source": [
        "In the below piece of code, the training data in tfrecords are turn into a dataset object"
      ]
    },
    {
      "cell_type": "code",
      "metadata": {
        "id": "OM6GwIMrCnH2",
        "colab_type": "code",
        "outputId": "668b28f2-ea62-4900-c6c2-48af8df55523",
        "colab": {
          "base_uri": "https://localhost:8080/",
          "height": 33
        }
      },
      "source": [
        "\n",
        "import gc\n",
        "def read_tfrecord(proto):\n",
        "    features = tf.compat.v1.parse_single_example(\n",
        "        proto,\n",
        "        features={\n",
        "            'label_normal': tf.io.FixedLenFeature([], tf.int64),\n",
        "            'image': tf.io.FixedLenFeature([], tf.string)\n",
        "        })\n",
        "    # now return the converted data\n",
        "    label = features['label_normal']\n",
        "    image = tf.io.decode_raw(features['image'], tf.uint8)\n",
        "\n",
        "\n",
        "    image = tf.cast(image,tf.float32)/255.\n",
        "    image = tf.reshape(image, [299, 299, 1])\n",
        "    image = tf.image.per_image_standardization(image)\n",
        "\n",
        "    gc.collect()\n",
        "    return image, label\n",
        "#source code from https://androidkt.com/feed-tfrecord-to-keras/\n",
        "\"\"\"\n",
        "def get_batched_dataset(filenames):\n",
        "  dataset = tf.data.TFRecordDataset(filenames)\n",
        "  dataset = dataset.map(read_tfrecord)\n",
        "  dataset = dataset.cache() # This dataset fits in RAM\n",
        "  dataset = dataset.repeat()\n",
        "  dataset = dataset.shuffle(1000)\n",
        "  dataset = dataset.batch(batch_size) \n",
        "  return dataset\n",
        "dataset = get_batched_dataset(trainpaths)\n",
        "print(dataset)\n",
        "\n",
        "\"\"\"\n",
        "\n",
        "def get_batched_dataset(filenames):\n",
        "  fractions = [0.86, 0.14]\n",
        "  class_func = lambda a,b:b\n",
        "  resampler = tf.data.experimental.rejection_resample(\n",
        "  class_func, target_dist=[0.5, 0.5], initial_dist=fractions)\n",
        "  dataset = tf.data.TFRecordDataset(filenames)\n",
        "  dataset = dataset.map(read_tfrecord)\n",
        "  \"\"\"\n",
        "  dataset = dataset.apply(resampler)\n",
        "  dataset = dataset.map(lambda extra_feature, feature_and_label: feature_and_label)\n",
        "  \"\"\"\n",
        "  dataset = dataset.repeat()\n",
        "  dataset = dataset.shuffle(1000)\n",
        "  dataset = dataset.batch(batch_size) \n",
        "  return dataset\n",
        "dataset = get_batched_dataset(trainpaths)\n",
        "print(dataset)\n"
      ],
      "execution_count": 0,
      "outputs": [
        {
          "output_type": "stream",
          "text": [
            "<BatchDataset shapes: ((None, 299, 299, 1), (None,)), types: (tf.float32, tf.int64)>\n"
          ],
          "name": "stdout"
        }
      ]
    },
    {
      "cell_type": "code",
      "metadata": {
        "id": "Lgjsbh2TnqI9",
        "colab_type": "code",
        "outputId": "6fbd9059-1252-4d02-d257-3f117e3e2e3d",
        "colab": {
          "base_uri": "https://localhost:8080/",
          "height": 33
        }
      },
      "source": [
        "#Basic image visualization, label\n",
        "#image_batch, label_batch = dataset.__iter__().next()\n",
        "#print(type(image_batch))\n",
        "\"\"\"\n",
        "from google.colab.patches import cv2_imshow\n",
        "iarr = image_batch.numpy()\n",
        "print(iarr.shape)\n",
        "i=iarr[0]\n",
        "print(i.shape)\n",
        "cv2_imshow(i)\n",
        "print(label_batch)\n",
        "\"\"\"\n"
      ],
      "execution_count": 0,
      "outputs": [
        {
          "output_type": "execute_result",
          "data": {
            "text/plain": [
              "'\\nfrom google.colab.patches import cv2_imshow\\niarr = image_batch.numpy()\\nprint(iarr.shape)\\ni=iarr[0]\\nprint(i.shape)\\ncv2_imshow(i)\\nprint(label_batch)\\n'"
            ]
          },
          "metadata": {
            "tags": []
          },
          "execution_count": 8
        }
      ]
    },
    {
      "cell_type": "markdown",
      "metadata": {
        "id": "HdOdK0XydWbp",
        "colab_type": "text"
      },
      "source": [
        "In the below piece of code, testing data is loaded into memory as a numpy array. Test and validation sets are combined, because the Kaggle author split validation and test sets wrong while putting the ddsm."
      ]
    },
    {
      "cell_type": "code",
      "metadata": {
        "id": "IyvHXDCHQCDW",
        "colab_type": "code",
        "outputId": "7329a8d3-d0b5-461c-8fac-73ea06992fb4",
        "colab": {
          "base_uri": "https://localhost:8080/",
          "height": 53
        }
      },
      "source": [
        "X_test1 = np.load('test10_data/test10_data.npy')\n",
        "X_test2 = np.load('cv10_data/cv10_data.npy')\n",
        "\n",
        "y_test1 = np.load(\"test10_labels.npy\")\n",
        "y_test2 = np.load(\"cv10_labels.npy\")\n",
        "X_test = np.concatenate((X_test1,X_test2),axis = 0)\n",
        "\n",
        "\n",
        "X_test = X_test[:1000]\n",
        "X_test = X_test/255.\n",
        "X_test = tf.convert_to_tensor(X_test)\n",
        "#X_test = tf.image.per_image_standardization(X_test)\n",
        "X_test = X_test.numpy()\n",
        "y_test = np.concatenate((y_test1,y_test2),axis = 0)\n",
        "y_test = np.array((list(map(lambda x: 0 if x == 0 else 1,y_test))))\n",
        "weights = sklearn.utils.class_weight.compute_class_weight('balanced',np.array([0,1]), y_test)\n",
        "y_test = y_test[:1000]\n",
        "datagen = tf.keras.preprocessing.image.ImageDataGenerator(samplewise_center=True,samplewise_std_normalization=True)\n",
        "datagen.fit(X_test)\n",
        "#I used the code below to test neural network with the test set\n",
        "\"\"\"\n",
        "\n",
        "\n",
        "X_test_negative_filter = list(map(lambda x: True if x == 0 else False,y_test))\n",
        "X_test_positive_filter = list(map(lambda x: False if x == 0 else True,y_test))\n",
        "\n",
        "X_test_positive = X_test[X_test_positive_filter]\n",
        "X_test_negative = X_test[X_test_negative_filter]\n",
        "print(X_test_positive.shape)\n",
        "print(X_test_negative.shape)\n",
        "X_test_negative = X_test_negative[:855]\n",
        "X = np.concatenate((X_test_negative,X_test_positive),axis = 0)\n",
        "y_negative= np.zeros(shape = (855,))\n",
        "y_positive= np.ones(shape = (855,))\n",
        "y = np.concatenate((y_negative,y_positive),axis = 0)\n",
        "X_train,X_test,y_train,y_test = train_test_split(X, y, test_size = 0.2, random_state = 0)\n",
        "print(np.sum(y))\n",
        "\"\"\""
      ],
      "execution_count": 0,
      "outputs": [
        {
          "output_type": "execute_result",
          "data": {
            "text/plain": [
              "'\\n\\n\\nX_test_negative_filter = list(map(lambda x: True if x == 0 else False,y_test))\\nX_test_positive_filter = list(map(lambda x: False if x == 0 else True,y_test))\\n\\nX_test_positive = X_test[X_test_positive_filter]\\nX_test_negative = X_test[X_test_negative_filter]\\nprint(X_test_positive.shape)\\nprint(X_test_negative.shape)\\nX_test_negative = X_test_negative[:855]\\nX = np.concatenate((X_test_negative,X_test_positive),axis = 0)\\ny_negative= np.zeros(shape = (855,))\\ny_positive= np.ones(shape = (855,))\\ny = np.concatenate((y_negative,y_positive),axis = 0)\\nX_train,X_test,y_train,y_test = train_test_split(X, y, test_size = 0.2, random_state = 0)\\nprint(np.sum(y))\\n'"
            ]
          },
          "metadata": {
            "tags": []
          },
          "execution_count": 35
        }
      ]
    },
    {
      "cell_type": "code",
      "metadata": {
        "id": "hdpMz412JADL",
        "colab_type": "code",
        "outputId": "68345875-77d8-4bf1-f6ad-20ade79676d2",
        "colab": {
          "base_uri": "https://localhost:8080/",
          "height": 33
        }
      },
      "source": [
        "print(weights)"
      ],
      "execution_count": 0,
      "outputs": [
        {
          "output_type": "stream",
          "text": [
            "[0.575      3.83333333]\n"
          ],
          "name": "stdout"
        }
      ]
    },
    {
      "cell_type": "markdown",
      "metadata": {
        "id": "WPxsfFwWsrOC",
        "colab_type": "text"
      },
      "source": [
        "We are planning to do binary classification, however the test set is labeled with 5 classes. In the below code this 5 class labeling is reduced to the two classes \"positive\" and \"negative\""
      ]
    },
    {
      "cell_type": "code",
      "metadata": {
        "id": "q9I-ZRCov6aK",
        "colab_type": "code",
        "colab": {}
      },
      "source": [
        "print(y_test[:10])\n",
        "print(y_test_reduced[:10])\n",
        "print(X_test[0:10])"
      ],
      "execution_count": 0,
      "outputs": []
    },
    {
      "cell_type": "code",
      "metadata": {
        "id": "BvrdXek6d0wI",
        "colab_type": "code",
        "outputId": "e7554068-52a2-4feb-9395-cd77325d8124",
        "colab": {
          "base_uri": "https://localhost:8080/",
          "height": 34
        }
      },
      "source": [
        "#garbage collection code\n",
        "\"\"\"\n",
        "del model\n",
        "import gc\n",
        "gc.collect()\n",
        "\"\"\""
      ],
      "execution_count": 0,
      "outputs": [
        {
          "output_type": "execute_result",
          "data": {
            "text/plain": [
              "'\\ndel model\\nimport gc\\ngc.collect()\\n'"
            ]
          },
          "metadata": {
            "tags": []
          },
          "execution_count": 12
        }
      ]
    },
    {
      "cell_type": "markdown",
      "metadata": {
        "id": "tRjfQkG4uxCB",
        "colab_type": "text"
      },
      "source": [
        "Below code imports machine learning libraries"
      ]
    },
    {
      "cell_type": "code",
      "metadata": {
        "id": "CaP9Vk3OeInz",
        "colab_type": "code",
        "colab": {}
      },
      "source": [
        "#y_test_reduced = np.array([0,0,0,0,0,0,0,0,0,0])"
      ],
      "execution_count": 0,
      "outputs": []
    },
    {
      "cell_type": "code",
      "metadata": {
        "id": "n8n0ItjIPM15",
        "colab_type": "code",
        "colab": {}
      },
      "source": [
        "import tensorflow.keras.applications\n",
        "from tensorflow.keras.callbacks import EarlyStopping,ModelCheckpoint\n",
        "from tensorflow.keras.layers import Flatten, Dense, Dropout, BatchNormalization,Activation\n",
        "from tensorflow.keras.layers import Conv2D, MaxPool2D\n",
        "from tensorflow.keras.optimizers import Adam\n",
        "import tensorflow_addons as tfa\n",
        "import tensorflow.keras.metrics\n",
        "from tensorflow.keras import Sequential"
      ],
      "execution_count": 0,
      "outputs": []
    },
    {
      "cell_type": "markdown",
      "metadata": {
        "id": "UTKqUiL0Smya",
        "colab_type": "text"
      },
      "source": [
        ""
      ]
    },
    {
      "cell_type": "code",
      "metadata": {
        "id": "OTvR9z2oCo-w",
        "colab_type": "code",
        "outputId": "ef298162-b44c-45a7-991e-58c2b3da68b3",
        "colab": {
          "base_uri": "https://localhost:8080/",
          "height": 1000
        }
      },
      "source": [
        "\"\"\"\n",
        "#VGG16 with 3 dense layers and 0.7 dropouts between.\n",
        "model = Sequential()\n",
        "model.add(Conv2D(input_shape=(299,299,1),filters=64,kernel_size=(3,3),padding=\"same\", activation=\"relu\"))\n",
        "model.add(Conv2D(filters=64,kernel_size=(3,3),padding=\"same\", activation=\"relu\"))\n",
        "model.add(MaxPool2D(pool_size=(2,2),strides=(2,2)))\n",
        "model.add(Conv2D(filters=128, kernel_size=(3,3), padding=\"same\", activation=\"relu\"))\n",
        "model.add(Conv2D(filters=128, kernel_size=(3,3), padding=\"same\", activation=\"relu\"))\n",
        "model.add(MaxPool2D(pool_size=(2,2),strides=(2,2)))\n",
        "model.add(Conv2D(filters=256, kernel_size=(3,3), padding=\"same\", activation=\"relu\"))\n",
        "model.add(Conv2D(filters=256, kernel_size=(3,3), padding=\"same\", activation=\"relu\"))\n",
        "model.add(Conv2D(filters=256, kernel_size=(3,3), padding=\"same\", activation=\"relu\"))\n",
        "model.add(MaxPool2D(pool_size=(2,2),strides=(2,2)))\n",
        "model.add(Conv2D(filters=512, kernel_size=(3,3), padding=\"same\", activation=\"relu\"))\n",
        "model.add(Conv2D(filters=512, kernel_size=(3,3), padding=\"same\", activation=\"relu\"))\n",
        "model.add(Conv2D(filters=512, kernel_size=(3,3), padding=\"same\", activation=\"relu\"))\n",
        "model.add(MaxPool2D(pool_size=(2,2),strides=(2,2)))\n",
        "model.add(Conv2D(filters=512, kernel_size=(3,3), padding=\"same\", activation=\"relu\"))\n",
        "model.add(Conv2D(filters=512, kernel_size=(3,3), padding=\"same\", activation=\"relu\"))\n",
        "model.add(Conv2D(filters=512, kernel_size=(3,3), padding=\"same\", activation=\"relu\"))\n",
        "model.add(MaxPool2D(pool_size=(2,2),strides=(2,2)))\n",
        "model.add(Flatten())\n",
        "model.add(Dense(units=1024,activation=\"relu\"))\n",
        "model.add(Dropout(0.70))\n",
        "model.add(Dense(units=64,activation=\"relu\"))\n",
        "model.add(Dropout(0.70))\n",
        "model.add(Dense(units=1, activation=\"sigmoid\"))\n",
        "model.summary()\n",
        "\"\"\"\n",
        "\n",
        "#VGG16 with 3 dense layers, batch normalization between layers and activation functions and 0.7 dropouts in fully connected layers.\n",
        "model = Sequential()\n",
        "model.add(Conv2D(input_shape=(299,299,1),filters=64,kernel_size=(3,3),padding=\"same\"))\n",
        "model.add(BatchNormalization())\n",
        "model.add(Activation('relu'))\n",
        "model.add(Conv2D(filters=64,kernel_size=(3,3),padding=\"same\"))\n",
        "model.add(BatchNormalization())\n",
        "model.add(Activation('relu'))\n",
        "model.add(MaxPool2D(pool_size=(2,2),strides=(2,2)))\n",
        "model.add(Conv2D(filters=128, kernel_size=(3,3), padding=\"same\"))\n",
        "model.add(BatchNormalization())\n",
        "model.add(Activation('relu'))\n",
        "model.add(Conv2D(filters=128, kernel_size=(3,3), padding=\"same\"))\n",
        "model.add(BatchNormalization())\n",
        "model.add(Activation('relu'))\n",
        "model.add(MaxPool2D(pool_size=(2,2),strides=(2,2)))\n",
        "model.add(Conv2D(filters=256, kernel_size=(3,3), padding=\"same\"))\n",
        "model.add(BatchNormalization())\n",
        "model.add(Activation('relu'))\n",
        "model.add(Conv2D(filters=256, kernel_size=(3,3), padding=\"same\"))\n",
        "model.add(BatchNormalization())\n",
        "model.add(Activation('relu'))\n",
        "model.add(Conv2D(filters=256, kernel_size=(3,3), padding=\"same\"))\n",
        "model.add(BatchNormalization())\n",
        "model.add(Activation('relu'))\n",
        "model.add(MaxPool2D(pool_size=(2,2),strides=(2,2)))\n",
        "model.add(Conv2D(filters=512, kernel_size=(3,3), padding=\"same\"))\n",
        "model.add(BatchNormalization())\n",
        "model.add(Activation('relu'))\n",
        "model.add(Conv2D(filters=512, kernel_size=(3,3), padding=\"same\"))\n",
        "model.add(BatchNormalization())\n",
        "model.add(Activation('relu'))\n",
        "model.add(Conv2D(filters=512, kernel_size=(3,3), padding=\"same\"))\n",
        "model.add(BatchNormalization())\n",
        "model.add(Activation('relu'))\n",
        "model.add(MaxPool2D(pool_size=(2,2),strides=(2,2)))\n",
        "model.add(Conv2D(filters=512, kernel_size=(3,3), padding=\"same\"))\n",
        "model.add(BatchNormalization())\n",
        "model.add(Activation('relu'))\n",
        "model.add(Conv2D(filters=512, kernel_size=(3,3), padding=\"same\"))\n",
        "model.add(BatchNormalization())\n",
        "model.add(Activation('relu'))\n",
        "model.add(Conv2D(filters=512, kernel_size=(3,3), padding=\"same\"))\n",
        "model.add(BatchNormalization())\n",
        "model.add(Activation('relu'))\n",
        "model.add(MaxPool2D(pool_size=(2,2),strides=(2,2)))\n",
        "model.add(Flatten())\n",
        "model.add(Dense(units=1024,activation=\"relu\"))\n",
        "model.add(Dropout(0.70))\n",
        "model.add(Dense(units=64,activation=\"relu\"))\n",
        "model.add(Dropout(0.70))\n",
        "model.add(Dense(units=1, activation=\"sigmoid\"))\n",
        "model.load_weights('vgg16bnus.h5')\n",
        "model.summary()\n",
        "\n"
      ],
      "execution_count": 0,
      "outputs": [
        {
          "output_type": "stream",
          "text": [
            "Model: \"sequential_2\"\n",
            "_________________________________________________________________\n",
            "Layer (type)                 Output Shape              Param #   \n",
            "=================================================================\n",
            "conv2d_26 (Conv2D)           (None, 299, 299, 64)      640       \n",
            "_________________________________________________________________\n",
            "batch_normalization_26 (Batc (None, 299, 299, 64)      256       \n",
            "_________________________________________________________________\n",
            "activation_26 (Activation)   (None, 299, 299, 64)      0         \n",
            "_________________________________________________________________\n",
            "conv2d_27 (Conv2D)           (None, 299, 299, 64)      36928     \n",
            "_________________________________________________________________\n",
            "batch_normalization_27 (Batc (None, 299, 299, 64)      256       \n",
            "_________________________________________________________________\n",
            "activation_27 (Activation)   (None, 299, 299, 64)      0         \n",
            "_________________________________________________________________\n",
            "max_pooling2d_10 (MaxPooling (None, 149, 149, 64)      0         \n",
            "_________________________________________________________________\n",
            "conv2d_28 (Conv2D)           (None, 149, 149, 128)     73856     \n",
            "_________________________________________________________________\n",
            "batch_normalization_28 (Batc (None, 149, 149, 128)     512       \n",
            "_________________________________________________________________\n",
            "activation_28 (Activation)   (None, 149, 149, 128)     0         \n",
            "_________________________________________________________________\n",
            "conv2d_29 (Conv2D)           (None, 149, 149, 128)     147584    \n",
            "_________________________________________________________________\n",
            "batch_normalization_29 (Batc (None, 149, 149, 128)     512       \n",
            "_________________________________________________________________\n",
            "activation_29 (Activation)   (None, 149, 149, 128)     0         \n",
            "_________________________________________________________________\n",
            "max_pooling2d_11 (MaxPooling (None, 74, 74, 128)       0         \n",
            "_________________________________________________________________\n",
            "conv2d_30 (Conv2D)           (None, 74, 74, 256)       295168    \n",
            "_________________________________________________________________\n",
            "batch_normalization_30 (Batc (None, 74, 74, 256)       1024      \n",
            "_________________________________________________________________\n",
            "activation_30 (Activation)   (None, 74, 74, 256)       0         \n",
            "_________________________________________________________________\n",
            "conv2d_31 (Conv2D)           (None, 74, 74, 256)       590080    \n",
            "_________________________________________________________________\n",
            "batch_normalization_31 (Batc (None, 74, 74, 256)       1024      \n",
            "_________________________________________________________________\n",
            "activation_31 (Activation)   (None, 74, 74, 256)       0         \n",
            "_________________________________________________________________\n",
            "conv2d_32 (Conv2D)           (None, 74, 74, 256)       590080    \n",
            "_________________________________________________________________\n",
            "batch_normalization_32 (Batc (None, 74, 74, 256)       1024      \n",
            "_________________________________________________________________\n",
            "activation_32 (Activation)   (None, 74, 74, 256)       0         \n",
            "_________________________________________________________________\n",
            "max_pooling2d_12 (MaxPooling (None, 37, 37, 256)       0         \n",
            "_________________________________________________________________\n",
            "conv2d_33 (Conv2D)           (None, 37, 37, 512)       1180160   \n",
            "_________________________________________________________________\n",
            "batch_normalization_33 (Batc (None, 37, 37, 512)       2048      \n",
            "_________________________________________________________________\n",
            "activation_33 (Activation)   (None, 37, 37, 512)       0         \n",
            "_________________________________________________________________\n",
            "conv2d_34 (Conv2D)           (None, 37, 37, 512)       2359808   \n",
            "_________________________________________________________________\n",
            "batch_normalization_34 (Batc (None, 37, 37, 512)       2048      \n",
            "_________________________________________________________________\n",
            "activation_34 (Activation)   (None, 37, 37, 512)       0         \n",
            "_________________________________________________________________\n",
            "conv2d_35 (Conv2D)           (None, 37, 37, 512)       2359808   \n",
            "_________________________________________________________________\n",
            "batch_normalization_35 (Batc (None, 37, 37, 512)       2048      \n",
            "_________________________________________________________________\n",
            "activation_35 (Activation)   (None, 37, 37, 512)       0         \n",
            "_________________________________________________________________\n",
            "max_pooling2d_13 (MaxPooling (None, 18, 18, 512)       0         \n",
            "_________________________________________________________________\n",
            "conv2d_36 (Conv2D)           (None, 18, 18, 512)       2359808   \n",
            "_________________________________________________________________\n",
            "batch_normalization_36 (Batc (None, 18, 18, 512)       2048      \n",
            "_________________________________________________________________\n",
            "activation_36 (Activation)   (None, 18, 18, 512)       0         \n",
            "_________________________________________________________________\n",
            "conv2d_37 (Conv2D)           (None, 18, 18, 512)       2359808   \n",
            "_________________________________________________________________\n",
            "batch_normalization_37 (Batc (None, 18, 18, 512)       2048      \n",
            "_________________________________________________________________\n",
            "activation_37 (Activation)   (None, 18, 18, 512)       0         \n",
            "_________________________________________________________________\n",
            "conv2d_38 (Conv2D)           (None, 18, 18, 512)       2359808   \n",
            "_________________________________________________________________\n",
            "batch_normalization_38 (Batc (None, 18, 18, 512)       2048      \n",
            "_________________________________________________________________\n",
            "activation_38 (Activation)   (None, 18, 18, 512)       0         \n",
            "_________________________________________________________________\n",
            "max_pooling2d_14 (MaxPooling (None, 9, 9, 512)         0         \n",
            "_________________________________________________________________\n",
            "flatten_2 (Flatten)          (None, 41472)             0         \n",
            "_________________________________________________________________\n",
            "dense_6 (Dense)              (None, 1024)              42468352  \n",
            "_________________________________________________________________\n",
            "dropout_4 (Dropout)          (None, 1024)              0         \n",
            "_________________________________________________________________\n",
            "dense_7 (Dense)              (None, 64)                65600     \n",
            "_________________________________________________________________\n",
            "dropout_5 (Dropout)          (None, 64)                0         \n",
            "_________________________________________________________________\n",
            "dense_8 (Dense)              (None, 1)                 65        \n",
            "=================================================================\n",
            "Total params: 57,264,449\n",
            "Trainable params: 57,256,001\n",
            "Non-trainable params: 8,448\n",
            "_________________________________________________________________\n"
          ],
          "name": "stdout"
        }
      ]
    },
    {
      "cell_type": "code",
      "metadata": {
        "id": "kbEYWgbxSMuQ",
        "colab_type": "code",
        "colab": {}
      },
      "source": [
        "truepositive = tf.keras.metrics.TruePositives()\n",
        "truenegative = tf.keras.metrics.TrueNegatives()\n",
        "falsepositive = tf.keras.metrics.FalsePositives()\n",
        "falsenegative = tf.keras.metrics.FalseNegatives()"
      ],
      "execution_count": 0,
      "outputs": []
    },
    {
      "cell_type": "code",
      "metadata": {
        "id": "HrbDw_c0Psrd",
        "colab_type": "code",
        "colab": {}
      },
      "source": [
        "adam = tf.keras.optimizers.Adam(learning_rate=0.00001)\n",
        "MyAdamW = tfa.optimizers.extend_with_decoupled_weight_decay(tf.keras.optimizers.Adam)\n",
        "adamw = MyAdamW(weight_decay=0.001, learning_rate=0.001)\n",
        "model.compile(optimizer=adam,loss='binary_crossentropy',metrics = ['accuracy',truepositive,truenegative,falsepositive,falsenegative])\n"
      ],
      "execution_count": 0,
      "outputs": []
    },
    {
      "cell_type": "code",
      "metadata": {
        "id": "ZgQ_rcuaIwJN",
        "colab_type": "code",
        "outputId": "590cd009-42e4-4c63-ccc8-4deadbedaabe",
        "colab": {
          "base_uri": "https://localhost:8080/",
          "height": 624
        }
      },
      "source": [
        "checkpoint = ModelCheckpoint(\"vgg16bnus3.h5\", monitor='val_accuracy', verbose=1, save_best_only=True, save_weights_only=False, mode='auto', period=1)\n",
        "early = EarlyStopping(monitor='val_accuracy', min_delta=0, patience=20, verbose=1, mode='auto')\n",
        "\n",
        "#history = model.fit(X_train,y_train,epochs=1, validation_data = (X_test, y_test),callbacks=[checkpoint,early])\n",
        "class_weight = {0: 0.575, 1: 3.83333333}\n",
        "#history = model.fit(dataset,steps_per_epoch = steps_per_epoch,epochs=epochs, validation_data = (X_test, y_test),callbacks=[checkpoint,early],class_weight=class_weight)\n",
        "history = model.fit(dataset,steps_per_epoch = steps_per_epoch,epochs=epochs, validation_data = datagen.flow(X_test, y_test),callbacks=[checkpoint,early],class_weight=class_weight)\n",
        "\n",
        "#history = model.fit(X_test,y_tes,steps_per_epoch=steps_per_epoch,epochs=10, validation_data = (X_test, y_test_reduced),class_weight=class_weight)\n",
        "\n",
        "def plot_learningCurve(history, epoch):\n",
        "  # Plot training & validation accuracy values\n",
        "  epoch_range = range(1, epoch+1)\n",
        "  plt.plot(epoch_range, history.history['accuracy'])\n",
        "  plt.plot(epoch_range, history.history['val_accuracy'])\n",
        "  plt.title('Model accuracy')\n",
        "  plt.ylabel('Accuracy')\n",
        "  plt.xlabel('Epochs')\n",
        "  plt.legend(['Train', 'Test'], loc='upper left')\n",
        "  plt.show()\n",
        "\n",
        "  # Plot training & validation loss values\n",
        "  plt.plot(epoch_range, history.history['loss'])\n",
        "  plt.plot(epoch_range, history.history['val_loss'])\n",
        "  plt.title('Model loss')\n",
        "  plt.ylabel('Loss')\n",
        "  plt.xlabel('Epochs')\n",
        "  plt.legend(['Train', 'Test'], loc='upper left')\n",
        "  plt.show()\n",
        "\n",
        "history.history\n"
      ],
      "execution_count": 0,
      "outputs": [
        {
          "output_type": "stream",
          "text": [
            "WARNING:tensorflow:`period` argument is deprecated. Please use `save_freq` to specify the frequency in number of batches seen.\n",
            "Epoch 1/20\n",
            "1996/1996 [==============================] - ETA: 0s - loss: 0.6804 - accuracy: 0.6649 - true_positives_1: 4941.0000 - true_negatives_1: 34872.0000 - false_positives_1: 17177.0000 - false_negatives_1: 2890.0000\n",
            "Epoch 00001: val_accuracy improved from -inf to 0.76900, saving model to vgg16bnus3.h5\n",
            "1996/1996 [==============================] - 943s 472ms/step - loss: 0.6804 - accuracy: 0.6649 - true_positives_1: 4941.0000 - true_negatives_1: 34872.0000 - false_positives_1: 17177.0000 - false_negatives_1: 2890.0000 - val_loss: 0.5281 - val_accuracy: 0.7690 - val_true_positives_1: 125.0000 - val_true_negatives_1: 644.0000 - val_false_positives_1: 220.0000 - val_false_negatives_1: 11.0000\n",
            "Epoch 2/20\n",
            "1996/1996 [==============================] - ETA: 0s - loss: 0.5517 - accuracy: 0.7527 - true_positives_1: 5593.0000 - true_negatives_1: 39477.0000 - false_positives_1: 12609.0000 - false_negatives_1: 2201.0000\n",
            "Epoch 00002: val_accuracy improved from 0.76900 to 0.87400, saving model to vgg16bnus3.h5\n",
            "1996/1996 [==============================] - 941s 471ms/step - loss: 0.5517 - accuracy: 0.7527 - true_positives_1: 5593.0000 - true_negatives_1: 39477.0000 - false_positives_1: 12609.0000 - false_negatives_1: 2201.0000 - val_loss: 0.3669 - val_accuracy: 0.8740 - val_true_positives_1: 118.0000 - val_true_negatives_1: 756.0000 - val_false_positives_1: 108.0000 - val_false_negatives_1: 18.0000\n",
            "Epoch 3/20\n",
            "1996/1996 [==============================] - ETA: 0s - loss: 0.4932 - accuracy: 0.7846 - true_positives_1: 6055.0000 - true_negatives_1: 40926.0000 - false_positives_1: 11104.0000 - false_negatives_1: 1795.0000\n",
            "Epoch 00003: val_accuracy did not improve from 0.87400\n",
            "1996/1996 [==============================] - 935s 468ms/step - loss: 0.4932 - accuracy: 0.7846 - true_positives_1: 6055.0000 - true_negatives_1: 40926.0000 - false_positives_1: 11104.0000 - false_negatives_1: 1795.0000 - val_loss: 0.4378 - val_accuracy: 0.8250 - val_true_positives_1: 122.0000 - val_true_negatives_1: 703.0000 - val_false_positives_1: 161.0000 - val_false_negatives_1: 14.0000\n",
            "Epoch 4/20\n",
            "1996/1996 [==============================] - ETA: 0s - loss: 0.4536 - accuracy: 0.7983 - true_positives_1: 6274.0000 - true_negatives_1: 41531.0000 - false_positives_1: 10519.0000 - false_negatives_1: 1556.0000\n",
            "Epoch 00004: val_accuracy improved from 0.87400 to 0.91700, saving model to vgg16bnus3.h5\n",
            "1996/1996 [==============================] - 939s 471ms/step - loss: 0.4536 - accuracy: 0.7983 - true_positives_1: 6274.0000 - true_negatives_1: 41531.0000 - false_positives_1: 10519.0000 - false_negatives_1: 1556.0000 - val_loss: 0.2470 - val_accuracy: 0.9170 - val_true_positives_1: 122.0000 - val_true_negatives_1: 795.0000 - val_false_positives_1: 69.0000 - val_false_negatives_1: 14.0000\n",
            "Epoch 5/20\n",
            "1996/1996 [==============================] - ETA: 0s - loss: 0.4151 - accuracy: 0.8269 - true_positives_1: 6402.0000 - true_negatives_1: 43112.0000 - false_positives_1: 8968.0000 - false_negatives_1: 1398.0000\n",
            "Epoch 00005: val_accuracy did not improve from 0.91700\n",
            "1996/1996 [==============================] - 934s 468ms/step - loss: 0.4151 - accuracy: 0.8269 - true_positives_1: 6402.0000 - true_negatives_1: 43112.0000 - false_positives_1: 8968.0000 - false_negatives_1: 1398.0000 - val_loss: 0.3233 - val_accuracy: 0.8700 - val_true_positives_1: 125.0000 - val_true_negatives_1: 745.0000 - val_false_positives_1: 119.0000 - val_false_negatives_1: 11.0000\n",
            "Epoch 6/20\n",
            "1996/1996 [==============================] - ETA: 0s - loss: 0.3753 - accuracy: 0.8399 - true_positives_1: 6635.0000 - true_negatives_1: 43659.0000 - false_positives_1: 8365.0000 - false_negatives_1: 1221.0000\n",
            "Epoch 00006: val_accuracy did not improve from 0.91700\n",
            "1996/1996 [==============================] - 933s 468ms/step - loss: 0.3753 - accuracy: 0.8399 - true_positives_1: 6635.0000 - true_negatives_1: 43659.0000 - false_positives_1: 8365.0000 - false_negatives_1: 1221.0000 - val_loss: 0.4651 - val_accuracy: 0.7630 - val_true_positives_1: 130.0000 - val_true_negatives_1: 633.0000 - val_false_positives_1: 231.0000 - val_false_negatives_1: 6.0000\n",
            "Epoch 7/20\n",
            "1996/1996 [==============================] - ETA: 0s - loss: 0.3400 - accuracy: 0.8649 - true_positives_1: 6773.0000 - true_negatives_1: 45018.0000 - false_positives_1: 7019.0000 - false_negatives_1: 1070.0000\n",
            "Epoch 00007: val_accuracy did not improve from 0.91700\n",
            "1996/1996 [==============================] - 933s 467ms/step - loss: 0.3400 - accuracy: 0.8649 - true_positives_1: 6773.0000 - true_negatives_1: 45018.0000 - false_positives_1: 7019.0000 - false_negatives_1: 1070.0000 - val_loss: 0.5059 - val_accuracy: 0.7610 - val_true_positives_1: 126.0000 - val_true_negatives_1: 635.0000 - val_false_positives_1: 229.0000 - val_false_negatives_1: 10.0000\n",
            "Epoch 8/20\n",
            "1996/1996 [==============================] - ETA: 0s - loss: 0.3260 - accuracy: 0.8760 - true_positives_1: 6803.0000 - true_negatives_1: 45653.0000 - false_positives_1: 6451.0000 - false_negatives_1: 973.0000\n",
            "Epoch 00008: val_accuracy did not improve from 0.91700\n",
            "1996/1996 [==============================] - 934s 468ms/step - loss: 0.3260 - accuracy: 0.8760 - true_positives_1: 6803.0000 - true_negatives_1: 45653.0000 - false_positives_1: 6451.0000 - false_negatives_1: 973.0000 - val_loss: 0.3075 - val_accuracy: 0.8730 - val_true_positives_1: 131.0000 - val_true_negatives_1: 742.0000 - val_false_positives_1: 122.0000 - val_false_negatives_1: 5.0000\n",
            "Epoch 9/20\n",
            "1996/1996 [==============================] - ETA: 0s - loss: 0.2867 - accuracy: 0.8898 - true_positives_1: 6976.0000 - true_negatives_1: 46308.0000 - false_positives_1: 5716.0000 - false_negatives_1: 880.0000\n",
            "Epoch 00009: val_accuracy did not improve from 0.91700\n",
            "1996/1996 [==============================] - 934s 468ms/step - loss: 0.2867 - accuracy: 0.8898 - true_positives_1: 6976.0000 - true_negatives_1: 46308.0000 - false_positives_1: 5716.0000 - false_negatives_1: 880.0000 - val_loss: 0.2213 - val_accuracy: 0.9060 - val_true_positives_1: 130.0000 - val_true_negatives_1: 776.0000 - val_false_positives_1: 88.0000 - val_false_negatives_1: 6.0000\n",
            "Epoch 10/20\n",
            "1996/1996 [==============================] - ETA: 0s - loss: 0.2769 - accuracy: 0.8951 - true_positives_1: 7057.0000 - true_negatives_1: 46544.0000 - false_positives_1: 5493.0000 - false_negatives_1: 786.0000\n",
            "Epoch 00010: val_accuracy did not improve from 0.91700\n",
            "1996/1996 [==============================] - 934s 468ms/step - loss: 0.2769 - accuracy: 0.8951 - true_positives_1: 7057.0000 - true_negatives_1: 46544.0000 - false_positives_1: 5493.0000 - false_negatives_1: 786.0000 - val_loss: 0.2308 - val_accuracy: 0.9070 - val_true_positives_1: 126.0000 - val_true_negatives_1: 781.0000 - val_false_positives_1: 83.0000 - val_false_negatives_1: 10.0000\n",
            "Epoch 11/20\n",
            "1996/1996 [==============================] - ETA: 0s - loss: 0.2455 - accuracy: 0.9042 - true_positives_1: 7122.0000 - true_negatives_1: 47023.0000 - false_positives_1: 5054.0000 - false_negatives_1: 681.0000\n",
            "Epoch 00011: val_accuracy improved from 0.91700 to 0.94200, saving model to vgg16bnus3.h5\n",
            "1996/1996 [==============================] - 939s 470ms/step - loss: 0.2455 - accuracy: 0.9042 - true_positives_1: 7122.0000 - true_negatives_1: 47023.0000 - false_positives_1: 5054.0000 - false_negatives_1: 681.0000 - val_loss: 0.1406 - val_accuracy: 0.9420 - val_true_positives_1: 123.0000 - val_true_negatives_1: 819.0000 - val_false_positives_1: 45.0000 - val_false_negatives_1: 13.0000\n",
            "Epoch 12/20\n",
            "1996/1996 [==============================] - ETA: 0s - loss: 0.2373 - accuracy: 0.9078 - true_positives_1: 7169.0000 - true_negatives_1: 47189.0000 - false_positives_1: 4863.0000 - false_negatives_1: 659.0000\n",
            "Epoch 00012: val_accuracy did not improve from 0.94200\n",
            "1996/1996 [==============================] - 935s 468ms/step - loss: 0.2373 - accuracy: 0.9078 - true_positives_1: 7169.0000 - true_negatives_1: 47189.0000 - false_positives_1: 4863.0000 - false_negatives_1: 659.0000 - val_loss: 0.2012 - val_accuracy: 0.9140 - val_true_positives_1: 125.0000 - val_true_negatives_1: 789.0000 - val_false_positives_1: 75.0000 - val_false_negatives_1: 11.0000\n",
            "Epoch 13/20\n",
            "1996/1996 [==============================] - ETA: 0s - loss: 0.2262 - accuracy: 0.9140 - true_positives_1: 7265.0000 - true_negatives_1: 47468.0000 - false_positives_1: 4579.0000 - false_negatives_1: 568.0000\n",
            "Epoch 00013: val_accuracy did not improve from 0.94200\n",
            "1996/1996 [==============================] - 934s 468ms/step - loss: 0.2262 - accuracy: 0.9140 - true_positives_1: 7265.0000 - true_negatives_1: 47468.0000 - false_positives_1: 4579.0000 - false_negatives_1: 568.0000 - val_loss: 0.2030 - val_accuracy: 0.9080 - val_true_positives_1: 128.0000 - val_true_negatives_1: 780.0000 - val_false_positives_1: 84.0000 - val_false_negatives_1: 8.0000\n",
            "Epoch 14/20\n",
            "1996/1996 [==============================] - ETA: 0s - loss: 0.2134 - accuracy: 0.9187 - true_positives_1: 7301.0000 - true_negatives_1: 47711.0000 - false_positives_1: 4354.0000 - false_negatives_1: 514.0000\n",
            "Epoch 00014: val_accuracy did not improve from 0.94200\n",
            "1996/1996 [==============================] - 934s 468ms/step - loss: 0.2134 - accuracy: 0.9187 - true_positives_1: 7301.0000 - true_negatives_1: 47711.0000 - false_positives_1: 4354.0000 - false_negatives_1: 514.0000 - val_loss: 0.1603 - val_accuracy: 0.9290 - val_true_positives_1: 117.0000 - val_true_negatives_1: 812.0000 - val_false_positives_1: 52.0000 - val_false_negatives_1: 19.0000\n",
            "Epoch 15/20\n",
            "1996/1996 [==============================] - ETA: 0s - loss: 0.1900 - accuracy: 0.9255 - true_positives_1: 7378.0000 - true_negatives_1: 48039.0000 - false_positives_1: 3997.0000 - false_negatives_1: 466.0000\n",
            "Epoch 00015: val_accuracy did not improve from 0.94200\n",
            "1996/1996 [==============================] - 934s 468ms/step - loss: 0.1900 - accuracy: 0.9255 - true_positives_1: 7378.0000 - true_negatives_1: 48039.0000 - false_positives_1: 3997.0000 - false_negatives_1: 466.0000 - val_loss: 0.1751 - val_accuracy: 0.9140 - val_true_positives_1: 125.0000 - val_true_negatives_1: 789.0000 - val_false_positives_1: 75.0000 - val_false_negatives_1: 11.0000\n",
            "Epoch 16/20\n",
            "1996/1996 [==============================] - ETA: 0s - loss: 0.1801 - accuracy: 0.9277 - true_positives_1: 7379.0000 - true_negatives_1: 48169.0000 - false_positives_1: 3873.0000 - false_negatives_1: 459.0000\n",
            "Epoch 00016: val_accuracy improved from 0.94200 to 0.95200, saving model to vgg16bnus3.h5\n",
            "1996/1996 [==============================] - 941s 472ms/step - loss: 0.1801 - accuracy: 0.9277 - true_positives_1: 7379.0000 - true_negatives_1: 48169.0000 - false_positives_1: 3873.0000 - false_negatives_1: 459.0000 - val_loss: 0.1545 - val_accuracy: 0.9520 - val_true_positives_1: 105.0000 - val_true_negatives_1: 847.0000 - val_false_positives_1: 17.0000 - val_false_negatives_1: 31.0000\n",
            "Epoch 17/20\n",
            "1996/1996 [==============================] - ETA: 0s - loss: 0.1620 - accuracy: 0.9344 - true_positives_1: 7409.0000 - true_negatives_1: 48542.0000 - false_positives_1: 3545.0000 - false_negatives_1: 384.0000\n",
            "Epoch 00017: val_accuracy did not improve from 0.95200\n",
            "1996/1996 [==============================] - 936s 469ms/step - loss: 0.1620 - accuracy: 0.9344 - true_positives_1: 7409.0000 - true_negatives_1: 48542.0000 - false_positives_1: 3545.0000 - false_negatives_1: 384.0000 - val_loss: 0.1550 - val_accuracy: 0.9390 - val_true_positives_1: 111.0000 - val_true_negatives_1: 828.0000 - val_false_positives_1: 36.0000 - val_false_negatives_1: 25.0000\n",
            "Epoch 18/20\n",
            "1996/1996 [==============================] - ETA: 0s - loss: 0.1476 - accuracy: 0.9428 - true_positives_1: 7482.0000 - true_negatives_1: 48970.0000 - false_positives_1: 3049.0000 - false_negatives_1: 379.0000\n",
            "Epoch 00018: val_accuracy did not improve from 0.95200\n",
            "1996/1996 [==============================] - 936s 469ms/step - loss: 0.1476 - accuracy: 0.9428 - true_positives_1: 7482.0000 - true_negatives_1: 48970.0000 - false_positives_1: 3049.0000 - false_negatives_1: 379.0000 - val_loss: 1.1530 - val_accuracy: 0.5570 - val_true_positives_1: 133.0000 - val_true_negatives_1: 424.0000 - val_false_positives_1: 440.0000 - val_false_negatives_1: 3.0000\n",
            "Epoch 19/20\n",
            "1996/1996 [==============================] - ETA: 0s - loss: 0.1791 - accuracy: 0.9378 - true_positives_1: 7417.0000 - true_negatives_1: 48739.0000 - false_positives_1: 3307.0000 - false_negatives_1: 417.0000\n",
            "Epoch 00019: val_accuracy did not improve from 0.95200\n",
            "1996/1996 [==============================] - 937s 469ms/step - loss: 0.1791 - accuracy: 0.9378 - true_positives_1: 7417.0000 - true_negatives_1: 48739.0000 - false_positives_1: 3307.0000 - false_negatives_1: 417.0000 - val_loss: 0.8672 - val_accuracy: 0.6380 - val_true_positives_1: 129.0000 - val_true_negatives_1: 509.0000 - val_false_positives_1: 355.0000 - val_false_negatives_1: 7.0000\n",
            "Epoch 20/20\n",
            "1996/1996 [==============================] - ETA: 0s - loss: 0.1837 - accuracy: 0.9410 - true_positives_1: 7445.0000 - true_negatives_1: 48904.0000 - false_positives_1: 3167.0000 - false_negatives_1: 364.0000\n",
            "Epoch 00020: val_accuracy did not improve from 0.95200\n",
            "1996/1996 [==============================] - 936s 469ms/step - loss: 0.1837 - accuracy: 0.9410 - true_positives_1: 7445.0000 - true_negatives_1: 48904.0000 - false_positives_1: 3167.0000 - false_negatives_1: 364.0000 - val_loss: 0.1224 - val_accuracy: 0.9480 - val_true_positives_1: 125.0000 - val_true_negatives_1: 823.0000 - val_false_positives_1: 41.0000 - val_false_negatives_1: 11.0000\n"
          ],
          "name": "stdout"
        },
        {
          "output_type": "execute_result",
          "data": {
            "text/plain": [
              "{'accuracy': [0.6648797392845154,\n",
              "  0.752672016620636,\n",
              "  0.7845858335494995,\n",
              "  0.7983466982841492,\n",
              "  0.8268871307373047,\n",
              "  0.8399131894111633,\n",
              "  0.8649131655693054,\n",
              "  0.8760187029838562,\n",
              "  0.8898463845252991,\n",
              "  0.8951402902603149,\n",
              "  0.9042251110076904,\n",
              "  0.907782256603241,\n",
              "  0.9140447378158569,\n",
              "  0.918704092502594,\n",
              "  0.9254676103591919,\n",
              "  0.9276553392410278,\n",
              "  0.9343854188919067,\n",
              "  0.9427521824836731,\n",
              "  0.9378089308738708,\n",
              "  0.9410320520401001],\n",
              " 'false_negatives_1': [2890.0,\n",
              "  2201.0,\n",
              "  1795.0,\n",
              "  1556.0,\n",
              "  1398.0,\n",
              "  1221.0,\n",
              "  1070.0,\n",
              "  973.0,\n",
              "  880.0,\n",
              "  786.0,\n",
              "  681.0,\n",
              "  659.0,\n",
              "  568.0,\n",
              "  514.0,\n",
              "  466.0,\n",
              "  459.0,\n",
              "  384.0,\n",
              "  379.0,\n",
              "  417.0,\n",
              "  364.0],\n",
              " 'false_positives_1': [17177.0,\n",
              "  12609.0,\n",
              "  11104.0,\n",
              "  10519.0,\n",
              "  8968.0,\n",
              "  8365.0,\n",
              "  7019.0,\n",
              "  6451.0,\n",
              "  5716.0,\n",
              "  5493.0,\n",
              "  5054.0,\n",
              "  4863.0,\n",
              "  4579.0,\n",
              "  4354.0,\n",
              "  3997.0,\n",
              "  3873.0,\n",
              "  3545.0,\n",
              "  3049.0,\n",
              "  3307.0,\n",
              "  3167.0],\n",
              " 'loss': [0.6803835034370422,\n",
              "  0.5516506433486938,\n",
              "  0.4932127296924591,\n",
              "  0.453572541475296,\n",
              "  0.415100634098053,\n",
              "  0.37526217103004456,\n",
              "  0.34002262353897095,\n",
              "  0.32598721981048584,\n",
              "  0.2866823077201843,\n",
              "  0.27693116664886475,\n",
              "  0.24548718333244324,\n",
              "  0.2372761219739914,\n",
              "  0.22621430456638336,\n",
              "  0.21335752308368683,\n",
              "  0.18997685611248016,\n",
              "  0.18010194599628448,\n",
              "  0.16202551126480103,\n",
              "  0.14757709205150604,\n",
              "  0.17906907200813293,\n",
              "  0.18374666571617126],\n",
              " 'true_negatives_1': [34872.0,\n",
              "  39477.0,\n",
              "  40926.0,\n",
              "  41531.0,\n",
              "  43112.0,\n",
              "  43659.0,\n",
              "  45018.0,\n",
              "  45653.0,\n",
              "  46308.0,\n",
              "  46544.0,\n",
              "  47023.0,\n",
              "  47189.0,\n",
              "  47468.0,\n",
              "  47711.0,\n",
              "  48039.0,\n",
              "  48169.0,\n",
              "  48542.0,\n",
              "  48970.0,\n",
              "  48739.0,\n",
              "  48904.0],\n",
              " 'true_positives_1': [4941.0,\n",
              "  5593.0,\n",
              "  6055.0,\n",
              "  6274.0,\n",
              "  6402.0,\n",
              "  6635.0,\n",
              "  6773.0,\n",
              "  6803.0,\n",
              "  6976.0,\n",
              "  7057.0,\n",
              "  7122.0,\n",
              "  7169.0,\n",
              "  7265.0,\n",
              "  7301.0,\n",
              "  7378.0,\n",
              "  7379.0,\n",
              "  7409.0,\n",
              "  7482.0,\n",
              "  7417.0,\n",
              "  7445.0],\n",
              " 'val_accuracy': [0.7689999938011169,\n",
              "  0.8740000128746033,\n",
              "  0.824999988079071,\n",
              "  0.9169999957084656,\n",
              "  0.8700000047683716,\n",
              "  0.7630000114440918,\n",
              "  0.7609999775886536,\n",
              "  0.8730000257492065,\n",
              "  0.906000018119812,\n",
              "  0.9070000052452087,\n",
              "  0.9419999718666077,\n",
              "  0.9139999747276306,\n",
              "  0.9079999923706055,\n",
              "  0.9290000200271606,\n",
              "  0.9139999747276306,\n",
              "  0.9520000219345093,\n",
              "  0.9390000104904175,\n",
              "  0.5569999814033508,\n",
              "  0.6380000114440918,\n",
              "  0.9480000138282776],\n",
              " 'val_false_negatives_1': [11.0,\n",
              "  18.0,\n",
              "  14.0,\n",
              "  14.0,\n",
              "  11.0,\n",
              "  6.0,\n",
              "  10.0,\n",
              "  5.0,\n",
              "  6.0,\n",
              "  10.0,\n",
              "  13.0,\n",
              "  11.0,\n",
              "  8.0,\n",
              "  19.0,\n",
              "  11.0,\n",
              "  31.0,\n",
              "  25.0,\n",
              "  3.0,\n",
              "  7.0,\n",
              "  11.0],\n",
              " 'val_false_positives_1': [220.0,\n",
              "  108.0,\n",
              "  161.0,\n",
              "  69.0,\n",
              "  119.0,\n",
              "  231.0,\n",
              "  229.0,\n",
              "  122.0,\n",
              "  88.0,\n",
              "  83.0,\n",
              "  45.0,\n",
              "  75.0,\n",
              "  84.0,\n",
              "  52.0,\n",
              "  75.0,\n",
              "  17.0,\n",
              "  36.0,\n",
              "  440.0,\n",
              "  355.0,\n",
              "  41.0],\n",
              " 'val_loss': [0.5281436443328857,\n",
              "  0.3669356107711792,\n",
              "  0.4377768933773041,\n",
              "  0.24696508049964905,\n",
              "  0.3233031630516052,\n",
              "  0.46510109305381775,\n",
              "  0.5059453248977661,\n",
              "  0.30746230483055115,\n",
              "  0.22130939364433289,\n",
              "  0.2308129221200943,\n",
              "  0.14063186943531036,\n",
              "  0.20122507214546204,\n",
              "  0.20295119285583496,\n",
              "  0.16031841933727264,\n",
              "  0.17511619627475739,\n",
              "  0.15452764928340912,\n",
              "  0.15499232709407806,\n",
              "  1.1530439853668213,\n",
              "  0.867249071598053,\n",
              "  0.122435562312603],\n",
              " 'val_true_negatives_1': [644.0,\n",
              "  756.0,\n",
              "  703.0,\n",
              "  795.0,\n",
              "  745.0,\n",
              "  633.0,\n",
              "  635.0,\n",
              "  742.0,\n",
              "  776.0,\n",
              "  781.0,\n",
              "  819.0,\n",
              "  789.0,\n",
              "  780.0,\n",
              "  812.0,\n",
              "  789.0,\n",
              "  847.0,\n",
              "  828.0,\n",
              "  424.0,\n",
              "  509.0,\n",
              "  823.0],\n",
              " 'val_true_positives_1': [125.0,\n",
              "  118.0,\n",
              "  122.0,\n",
              "  122.0,\n",
              "  125.0,\n",
              "  130.0,\n",
              "  126.0,\n",
              "  131.0,\n",
              "  130.0,\n",
              "  126.0,\n",
              "  123.0,\n",
              "  125.0,\n",
              "  128.0,\n",
              "  117.0,\n",
              "  125.0,\n",
              "  105.0,\n",
              "  111.0,\n",
              "  133.0,\n",
              "  129.0,\n",
              "  125.0]}"
            ]
          },
          "metadata": {
            "tags": []
          },
          "execution_count": 41
        }
      ]
    },
    {
      "cell_type": "code",
      "metadata": {
        "id": "Ev0Xqwl0uEvg",
        "colab_type": "code",
        "outputId": "e3f56411-9e24-4887-a078-12b2bfdf4140",
        "colab": {
          "base_uri": "https://localhost:8080/",
          "height": 573
        }
      },
      "source": [
        "plot_learningCurve(history, epochs)"
      ],
      "execution_count": 0,
      "outputs": [
        {
          "output_type": "display_data",
          "data": {
            "image/png": "[encoded data removed]",
            "text/plain": [
              "<Figure size 432x288 with 1 Axes>"
            ]
          },
          "metadata": {
            "tags": [],
            "needs_background": "light"
          }
        },
        {
          "output_type": "display_data",
          "data": {
            "image/png": "[encoded data removed]",
            "text/plain": [
              "<Figure size 432x288 with 1 Axes>"
            ]
          },
          "metadata": {
            "tags": [],
            "needs_background": "light"
          }
        }
      ]
    },
    {
      "cell_type": "code",
      "metadata": {
        "id": "bz8n2boJSZbx",
        "colab_type": "code",
        "outputId": "9321128c-6228-44e3-b614-e6c0e42a8c01",
        "colab": {
          "base_uri": "https://localhost:8080/",
          "height": 67
        }
      },
      "source": [
        "#X_test = np.concatenate((X_test1,X_test2),axis = 0)\n",
        "#X_test = X_test[1000:]\n",
        "#X_test = X_test/255.\n",
        "#y_test = np.concatenate((y_test1,y_test2),axis = 0)\n",
        "\n",
        "#y_test = y_test[1000:]\n",
        "y_test = np.array((list(map(lambda x: 0 if x == 0 else 1,y_test))))\n",
        "print(y_test.shape)\n",
        "results = model.evaluate(datagen.flow(X_test,y_test),batch_size=30)\n",
        "print('test loss, test acc:', results)\n"
      ],
      "execution_count": 0,
      "outputs": [
        {
          "output_type": "stream",
          "text": [
            "(1000,)\n",
            "32/32 [==============================] - 5s 146ms/step - loss: 0.1545 - accuracy: 0.9520 - true_positives_1: 105.0000 - true_negatives_1: 847.0000 - false_positives_1: 17.0000 - false_negatives_1: 31.0000\n",
            "test loss, test acc: [0.15452979505062103, 0.9520000219345093, 105.0, 847.0, 17.0, 31.0]\n"
          ],
          "name": "stdout"
        }
      ]
    },
    {
      "cell_type": "code",
      "metadata": {
        "id": "0T7Nk2GHdV-N",
        "colab_type": "code",
        "outputId": "f9a4bf5f-f5cb-44c7-8741-fbc6628c1e1e",
        "colab": {
          "base_uri": "https://localhost:8080/",
          "height": 256
        }
      },
      "source": [
        "print(y_test[:10])\n",
        "model.predict_proba(X_test[:10])"
      ],
      "execution_count": 0,
      "outputs": [
        {
          "output_type": "stream",
          "text": [
            "[1 0 0 0 0 0 0 0 1 0]\n",
            "WARNING:tensorflow:From <ipython-input-19-7c65508fb2af>:2: Sequential.predict_proba (from tensorflow.python.keras.engine.sequential) is deprecated and will be removed after 2021-01-01.\n",
            "Instructions for updating:\n",
            "Please use `model.predict()` instead.\n"
          ],
          "name": "stdout"
        },
        {
          "output_type": "execute_result",
          "data": {
            "text/plain": [
              "array([[9.9998522e-01],\n",
              "       [1.7808137e-11],\n",
              "       [2.0956597e-03],\n",
              "       [1.8778671e-02],\n",
              "       [1.0558557e-08],\n",
              "       [1.0146174e-01],\n",
              "       [3.4153184e-06],\n",
              "       [5.9975612e-08],\n",
              "       [9.9738401e-01],\n",
              "       [3.2516003e-02]], dtype=float32)"
            ]
          },
          "metadata": {
            "tags": []
          },
          "execution_count": 19
        }
      ]
    },
    {
      "cell_type": "code",
      "metadata": {
        "id": "L7WNCPBuHt64",
        "colab_type": "code",
        "colab": {}
      },
      "source": [
        "\"\"\"\n",
        "#code from https://www.avanwyk.com/finding-a-learning-rate-in-tensorflow-2/\n",
        "import matplotlib.pyplot as plt\n",
        "import tensorflow as tf\n",
        "\n",
        "from tensorflow.keras.callbacks import Callback\n",
        "\n",
        "\n",
        "class LRFinder(Callback):\n",
        "    \"\"\"Callback that exponentially adjusts the learning rate after each training batch between start_lr and\n",
        "    end_lr for a maximum number of batches: max_step. The loss and learning rate are recorded at each step allowing\n",
        "    visually finding a good learning rate as per https://sgugger.github.io/how-do-you-find-a-good-learning-rate.html via\n",
        "    the plot method.\n",
        "    \"\"\"\n",
        "\n",
        "    def __init__(self, start_lr: float = 1e-7, end_lr: float = 10, max_steps: int = 100, smoothing=0.9):\n",
        "        super(LRFinder, self).__init__()\n",
        "        self.start_lr, self.end_lr = start_lr, end_lr\n",
        "        self.max_steps = max_steps\n",
        "        self.smoothing = smoothing\n",
        "        self.step, self.best_loss, self.avg_loss, self.lr = 0, 0, 0, 0\n",
        "        self.lrs, self.losses = [], []\n",
        "\n",
        "    def on_train_begin(self, logs=None):\n",
        "        self.step, self.best_loss, self.avg_loss, self.lr = 0, 0, 0, 0\n",
        "        self.lrs, self.losses = [], []\n",
        "\n",
        "    def on_train_batch_begin(self, batch, logs=None):\n",
        "        self.lr = self.exp_annealing(self.step)\n",
        "        tf.keras.backend.set_value(self.model.optimizer.lr, self.lr)\n",
        "\n",
        "    def on_train_batch_end(self, batch, logs=None):\n",
        "        logs = logs or {}\n",
        "        loss = logs.get('loss')\n",
        "        step = self.step\n",
        "        if loss:\n",
        "            self.avg_loss = self.smoothing * self.avg_loss + (1 - self.smoothing) * loss\n",
        "            smooth_loss = self.avg_loss / (1 - self.smoothing ** (self.step + 1))\n",
        "            self.losses.append(smooth_loss)\n",
        "            self.lrs.append(self.lr)\n",
        "\n",
        "            if step == 0 or loss < self.best_loss:\n",
        "                self.best_loss = loss\n",
        "\n",
        "            if smooth_loss > 4 * self.best_loss or tf.math.is_nan(smooth_loss):\n",
        "                self.model.stop_training = True\n",
        "\n",
        "        if step == self.max_steps:\n",
        "            self.model.stop_training = True\n",
        "\n",
        "        self.step += 1\n",
        "\n",
        "    def exp_annealing(self, step):\n",
        "        return self.start_lr * (self.end_lr / self.start_lr) ** (step * 1. / self.max_steps)\n",
        "\n",
        "    def plot(self):\n",
        "        fig, ax = plt.subplots(1, 1)\n",
        "        ax.set_ylabel('Loss')\n",
        "        ax.set_xlabel('Learning Rate (log scale)')\n",
        "        ax.set_xscale('log')\n",
        "        ax.xaxis.set_major_formatter(plt.FormatStrFormatter('%.0e'))\n",
        "        ax.plot(self.lrs, self.losses)\n",
        "        \"\"\""
      ],
      "execution_count": 0,
      "outputs": []
    },
    {
      "cell_type": "code",
      "metadata": {
        "id": "b1uHpHCFIeRM",
        "colab_type": "code",
        "colab": {}
      },
      "source": [
        "#lr_finder = LRFinder()\n",
        "\n",
        "model.fit(dataset,steps_per_epoch = steps_per_epoch,epochs=5, validation_data = (X_test, y_test_reduced),callbacks=[lr_finder],verbose = False)\n",
        "lr_finder.plot()"
      ],
      "execution_count": 0,
      "outputs": []
    },
    {
      "cell_type": "code",
      "metadata": {
        "id": "nj96fqQUOiWm",
        "colab_type": "code",
        "colab": {}
      },
      "source": [
        "#lr_finder.plot()"
      ],
      "execution_count": 0,
      "outputs": []
    },
    {
      "cell_type": "code",
      "metadata": {
        "id": "Rn_6y70oQO1n",
        "colab_type": "code",
        "colab": {}
      },
      "source": [
        ""
      ],
      "execution_count": 0,
      "outputs": []
    }
  ]
}